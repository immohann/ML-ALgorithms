{
  "nbformat": 4,
  "nbformat_minor": 0,
  "metadata": {
    "colab": {
      "name": "Decision Forest.ipynb",
      "provenance": []
    },
    "kernelspec": {
      "name": "python3",
      "display_name": "Python 3"
    }
  },
  "cells": [
    {
      "cell_type": "code",
      "metadata": {
        "id": "AxapxR2gSCnR"
      },
      "source": [
        "import pandas as pd\r\n",
        "import numpy as np\r\n",
        "from sklearn.ensemble import RandomForestClassifier "
      ],
      "execution_count": null,
      "outputs": []
    },
    {
      "cell_type": "code",
      "metadata": {
        "colab": {
          "base_uri": "https://localhost:8080/",
          "height": 419
        },
        "id": "Q508p4PST1sy",
        "outputId": "cc61552b-ae37-42c8-9449-d764ca7a7f83"
      },
      "source": [
        "# 1. Number of times pregnant\r\n",
        "# 2. Plasma glucose concentration a 2 hours in an oral glucose tolerance test\r\n",
        "# 3. Diastolic blood pressure (mm Hg)\r\n",
        "# 4. Triceps skin fold thickness (mm)\r\n",
        "# 5. 2-Hour serum insulin (mu U/ml)\r\n",
        "# 6. Body mass index (weight in kg/(height in m)^2)\r\n",
        "# 7. Diabetes pedigree function\r\n",
        "# 8. Age (years)\r\n",
        "# 9. Class variable (0 or 1)\r\n",
        "# load dataset\r\n",
        "df = pd.read_csv(\"dataset.csv\")\r\n",
        "df"
      ],
      "execution_count": null,
      "outputs": [
        {
          "output_type": "execute_result",
          "data": {
            "text/html": [
              "<div>\n",
              "<style scoped>\n",
              "    .dataframe tbody tr th:only-of-type {\n",
              "        vertical-align: middle;\n",
              "    }\n",
              "\n",
              "    .dataframe tbody tr th {\n",
              "        vertical-align: top;\n",
              "    }\n",
              "\n",
              "    .dataframe thead th {\n",
              "        text-align: right;\n",
              "    }\n",
              "</style>\n",
              "<table border=\"1\" class=\"dataframe\">\n",
              "  <thead>\n",
              "    <tr style=\"text-align: right;\">\n",
              "      <th></th>\n",
              "      <th>pregnant</th>\n",
              "      <th>glucose</th>\n",
              "      <th>bp</th>\n",
              "      <th>skin-fold</th>\n",
              "      <th>insulin</th>\n",
              "      <th>bmass</th>\n",
              "      <th>diab</th>\n",
              "      <th>age</th>\n",
              "      <th>label</th>\n",
              "    </tr>\n",
              "  </thead>\n",
              "  <tbody>\n",
              "    <tr>\n",
              "      <th>0</th>\n",
              "      <td>6</td>\n",
              "      <td>148</td>\n",
              "      <td>72</td>\n",
              "      <td>35</td>\n",
              "      <td>0</td>\n",
              "      <td>33.6</td>\n",
              "      <td>0.627</td>\n",
              "      <td>50</td>\n",
              "      <td>1</td>\n",
              "    </tr>\n",
              "    <tr>\n",
              "      <th>1</th>\n",
              "      <td>1</td>\n",
              "      <td>85</td>\n",
              "      <td>66</td>\n",
              "      <td>29</td>\n",
              "      <td>0</td>\n",
              "      <td>26.6</td>\n",
              "      <td>0.351</td>\n",
              "      <td>31</td>\n",
              "      <td>0</td>\n",
              "    </tr>\n",
              "    <tr>\n",
              "      <th>2</th>\n",
              "      <td>8</td>\n",
              "      <td>183</td>\n",
              "      <td>64</td>\n",
              "      <td>0</td>\n",
              "      <td>0</td>\n",
              "      <td>23.3</td>\n",
              "      <td>0.672</td>\n",
              "      <td>32</td>\n",
              "      <td>1</td>\n",
              "    </tr>\n",
              "    <tr>\n",
              "      <th>3</th>\n",
              "      <td>1</td>\n",
              "      <td>89</td>\n",
              "      <td>66</td>\n",
              "      <td>23</td>\n",
              "      <td>94</td>\n",
              "      <td>28.1</td>\n",
              "      <td>0.167</td>\n",
              "      <td>21</td>\n",
              "      <td>0</td>\n",
              "    </tr>\n",
              "    <tr>\n",
              "      <th>4</th>\n",
              "      <td>0</td>\n",
              "      <td>137</td>\n",
              "      <td>40</td>\n",
              "      <td>35</td>\n",
              "      <td>168</td>\n",
              "      <td>43.1</td>\n",
              "      <td>2.288</td>\n",
              "      <td>33</td>\n",
              "      <td>1</td>\n",
              "    </tr>\n",
              "    <tr>\n",
              "      <th>...</th>\n",
              "      <td>...</td>\n",
              "      <td>...</td>\n",
              "      <td>...</td>\n",
              "      <td>...</td>\n",
              "      <td>...</td>\n",
              "      <td>...</td>\n",
              "      <td>...</td>\n",
              "      <td>...</td>\n",
              "      <td>...</td>\n",
              "    </tr>\n",
              "    <tr>\n",
              "      <th>763</th>\n",
              "      <td>10</td>\n",
              "      <td>101</td>\n",
              "      <td>76</td>\n",
              "      <td>48</td>\n",
              "      <td>180</td>\n",
              "      <td>32.9</td>\n",
              "      <td>0.171</td>\n",
              "      <td>63</td>\n",
              "      <td>0</td>\n",
              "    </tr>\n",
              "    <tr>\n",
              "      <th>764</th>\n",
              "      <td>2</td>\n",
              "      <td>122</td>\n",
              "      <td>70</td>\n",
              "      <td>27</td>\n",
              "      <td>0</td>\n",
              "      <td>36.8</td>\n",
              "      <td>0.340</td>\n",
              "      <td>27</td>\n",
              "      <td>0</td>\n",
              "    </tr>\n",
              "    <tr>\n",
              "      <th>765</th>\n",
              "      <td>5</td>\n",
              "      <td>121</td>\n",
              "      <td>72</td>\n",
              "      <td>23</td>\n",
              "      <td>112</td>\n",
              "      <td>26.2</td>\n",
              "      <td>0.245</td>\n",
              "      <td>30</td>\n",
              "      <td>0</td>\n",
              "    </tr>\n",
              "    <tr>\n",
              "      <th>766</th>\n",
              "      <td>1</td>\n",
              "      <td>126</td>\n",
              "      <td>60</td>\n",
              "      <td>0</td>\n",
              "      <td>0</td>\n",
              "      <td>30.1</td>\n",
              "      <td>0.349</td>\n",
              "      <td>47</td>\n",
              "      <td>1</td>\n",
              "    </tr>\n",
              "    <tr>\n",
              "      <th>767</th>\n",
              "      <td>1</td>\n",
              "      <td>93</td>\n",
              "      <td>70</td>\n",
              "      <td>31</td>\n",
              "      <td>0</td>\n",
              "      <td>30.4</td>\n",
              "      <td>0.315</td>\n",
              "      <td>23</td>\n",
              "      <td>0</td>\n",
              "    </tr>\n",
              "  </tbody>\n",
              "</table>\n",
              "<p>768 rows × 9 columns</p>\n",
              "</div>"
            ],
            "text/plain": [
              "     pregnant  glucose  bp  skin-fold  insulin  bmass   diab  age  label\n",
              "0           6      148  72         35        0   33.6  0.627   50      1\n",
              "1           1       85  66         29        0   26.6  0.351   31      0\n",
              "2           8      183  64          0        0   23.3  0.672   32      1\n",
              "3           1       89  66         23       94   28.1  0.167   21      0\n",
              "4           0      137  40         35      168   43.1  2.288   33      1\n",
              "..        ...      ...  ..        ...      ...    ...    ...  ...    ...\n",
              "763        10      101  76         48      180   32.9  0.171   63      0\n",
              "764         2      122  70         27        0   36.8  0.340   27      0\n",
              "765         5      121  72         23      112   26.2  0.245   30      0\n",
              "766         1      126  60          0        0   30.1  0.349   47      1\n",
              "767         1       93  70         31        0   30.4  0.315   23      0\n",
              "\n",
              "[768 rows x 9 columns]"
            ]
          },
          "metadata": {
            "tags": []
          },
          "execution_count": 4
        }
      ]
    },
    {
      "cell_type": "code",
      "metadata": {
        "id": "tmnvGzpNU7DT"
      },
      "source": [
        "#split dataset in features and target variable\r\n",
        "feature_cols = ['pregnant', 'glucose', 'bp', 'skin-fold', 'insulin', 'bmass', 'diab', 'age']\r\n",
        "X = df[feature_cols] # Features\r\n",
        "y = df.label # Target variable"
      ],
      "execution_count": null,
      "outputs": []
    },
    {
      "cell_type": "code",
      "metadata": {
        "id": "IbnKdkyMT9p4"
      },
      "source": [
        "from sklearn.model_selection import train_test_split \r\n",
        "# i.e. 80 % training dataset and 30 % test datasets \r\n",
        "X_train, X_test, y_train, y_test = train_test_split(X, y, test_size = 0.70) "
      ],
      "execution_count": null,
      "outputs": []
    },
    {
      "cell_type": "code",
      "metadata": {
        "colab": {
          "base_uri": "https://localhost:8080/"
        },
        "id": "236R_DCKUGcm",
        "outputId": "85150380-8713-4fba-dff6-23e1424a229b"
      },
      "source": [
        "# creating a RF classifier \r\n",
        "clf = RandomForestClassifier(n_estimators = 100)   \r\n",
        "  \r\n",
        "# Training the model on the training dataset \r\n",
        "# fit function is used to train the model using the training sets as parameters \r\n",
        "clf.fit(X_train, y_train) \r\n",
        "  \r\n",
        "# performing predictions on the test dataset \r\n",
        "y_pred = clf.predict(X_test) \r\n",
        "  \r\n",
        "# metrics are used to find accuracy or error \r\n",
        "from sklearn import metrics   \r\n",
        "  \r\n",
        "# using metrics module for accuracy calculation \r\n",
        "print(\"ACCURACY OF THE MODEL: \", metrics.accuracy_score(y_test, y_pred)) "
      ],
      "execution_count": null,
      "outputs": [
        {
          "output_type": "stream",
          "text": [
            "ACCURACY OF THE MODEL:  0.7639405204460966\n"
          ],
          "name": "stdout"
        }
      ]
    },
    {
      "cell_type": "code",
      "metadata": {
        "colab": {
          "base_uri": "https://localhost:8080/"
        },
        "id": "wpb1ALghVDU9",
        "outputId": "00e468ea-aa6b-4520-ca54-f4739c9d2d00"
      },
      "source": [
        "from sklearn import metrics\r\n",
        "cnf_matrix = metrics.confusion_matrix(y_test, y_pred)\r\n",
        "cnf_matrix"
      ],
      "execution_count": null,
      "outputs": [
        {
          "output_type": "execute_result",
          "data": {
            "text/plain": [
              "array([[303,  51],\n",
              "       [ 76, 108]])"
            ]
          },
          "metadata": {
            "tags": []
          },
          "execution_count": 10
        }
      ]
    },
    {
      "cell_type": "code",
      "metadata": {
        "colab": {
          "base_uri": "https://localhost:8080/"
        },
        "id": "XQP_rvFiVMlZ",
        "outputId": "0316b05b-4b34-4cfc-f332-ba8c8f73c2cf"
      },
      "source": [
        "# predicting if a peron has diabeties  \r\n",
        "clf.predict([[1\t,85\t,66\t,29\t,0\t,26.6\t,0.351\t,31]]) "
      ],
      "execution_count": null,
      "outputs": [
        {
          "output_type": "execute_result",
          "data": {
            "text/plain": [
              "array([0])"
            ]
          },
          "metadata": {
            "tags": []
          },
          "execution_count": 11
        }
      ]
    },
    {
      "cell_type": "code",
      "metadata": {
        "colab": {
          "base_uri": "https://localhost:8080/"
        },
        "id": "RGo3KglVVgTn",
        "outputId": "79717c54-c99f-46ee-c5fc-e0dbb2ac6281"
      },
      "source": [
        "clf.predict([[0\t,137\t,40\t,35\t,168\t,43.1\t,2.288\t,33]]) "
      ],
      "execution_count": null,
      "outputs": [
        {
          "output_type": "execute_result",
          "data": {
            "text/plain": [
              "array([1])"
            ]
          },
          "metadata": {
            "tags": []
          },
          "execution_count": 13
        }
      ]
    }
  ]
}